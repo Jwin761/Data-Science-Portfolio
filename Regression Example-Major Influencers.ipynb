{
 "cells": [
  {
   "cell_type": "markdown",
   "id": "bdf81634",
   "metadata": {},
   "source": [
    "Situation:  A manufacturing process is producing product that is not to spec.  There isn't any obvious reasons so we are looking to determine which features are the main influencers of the target spec."
   ]
  },
  {
   "cell_type": "code",
   "execution_count": null,
   "id": "9d85990c",
   "metadata": {},
   "outputs": [],
   "source": [
    "#downloading libraries\n",
    "import numpy as np\n",
    "import pandas as pd\n",
    "import seaborn as sns\n",
    "import matplotlib as plt"
   ]
  },
  {
   "cell_type": "markdown",
   "id": "98b03c3e",
   "metadata": {},
   "source": [
    "# Data Prep"
   ]
  },
  {
   "cell_type": "markdown",
   "id": "db51744b",
   "metadata": {},
   "source": [
    "There are 3 main process that collect data but the data collection doesn't merge well.  First we will import the data and combine it, preparing it for analysis.  Loading the first process CSV into a dataframe."
   ]
  },
  {
   "cell_type": "code",
   "execution_count": null,
   "id": "1871953f",
   "metadata": {},
   "outputs": [],
   "source": [
    "df1 = pd.read_csv('Process 1.csv')\n",
    "df1.head()"
   ]
  },
  {
   "cell_type": "code",
   "execution_count": null,
   "id": "e30ff525",
   "metadata": {},
   "outputs": [],
   "source": []
  }
 ],
 "metadata": {
  "kernelspec": {
   "display_name": "pythonlab",
   "language": "python",
   "name": "pythonlab"
  }
 },
 "nbformat": 4,
 "nbformat_minor": 5
}
